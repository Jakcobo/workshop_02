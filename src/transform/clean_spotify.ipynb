{
 "cells": [
  {
   "cell_type": "code",
   "execution_count": null,
   "metadata": {},
   "outputs": [],
   "source": [
    "# Eliminar el registro con valores nulos en las columnas clave\n",
    "spotify_df = spotify_df.dropna(subset=['artists', 'album_name', 'track_name'])"
   ]
  }
 ],
 "metadata": {
  "language_info": {
   "name": "python"
  }
 },
 "nbformat": 4,
 "nbformat_minor": 2
}
