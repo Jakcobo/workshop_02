{
 "cells": [
  {
   "cell_type": "code",
   "execution_count": 4,
   "id": "934200be",
   "metadata": {},
   "outputs": [],
   "source": [
    "import pandas as pd\n",
    "import os\n",
    "import matplotlib.pyplot as plt\n",
    "import seaborn as sns"
   ]
  },
  {
   "cell_type": "code",
   "execution_count": null,
   "id": "1611e250",
   "metadata": {},
   "outputs": [
    {
     "name": "stdout",
     "output_type": "stream",
     "text": [
      "Current directory before change: /home/jacobo/workshop_02/notebooks\n",
      "Current directory after change: /home/jacobo/workshop_02\n"
     ]
    }
   ],
   "source": [
    "print(\"Current directory before change:\", os.getcwd())\n",
    "\n",
    "try:\n",
    "    \n",
    "    os.chdir(\"../\")\n",
    "    print(\"Current directory after change:\", os.getcwd())\n",
    "\n",
    "except FileNotFoundError:\n",
    "    print(\"\"\"\n",
    "        FileNotFoundError - The specified directory does not exist or you are already in the root.\n",
    "        If the code already worked once, do not run it again.\n",
    "    \"\"\")"
   ]
  },
  {
   "cell_type": "code",
   "execution_count": 2,
   "id": "86f12da5",
   "metadata": {},
   "outputs": [
    {
     "name": "stdout",
     "output_type": "stream",
     "text": [
      "Se encontraron 31437 artistas únicos.\n",
      "Error procesando el artista 'Freq Nasty': Expecting value: line 1 column 1 (char 0)\n",
      "Error procesando el artista 'Hate': Expecting value: line 1 column 1 (char 0)\n",
      "Error procesando el artista 'Jethro Heston': Expecting value: line 1 column 1 (char 0)\n",
      "Error procesando el artista 'Hugo Díaz': Expecting value: line 1 column 1 (char 0)\n",
      "Datos de la API almacenados en: data/lastfm_artist_stats.csv\n",
      "                                     artist ontour listeners playcount\n",
      "0                               Gen Hoshino      0    190339   3347034\n",
      "1                              Ben Woodward      0     41722    266180\n",
      "2                         Ingrid Michaelson      0   1362559  27201134\n",
      "3                              Kina Grannis      0    527258   6093614\n",
      "4                          Chord Overstreet      0    338001   3494136\n",
      "...                                     ...    ...       ...       ...\n",
      "31428                          Paz Interior      0      2008      7748\n",
      "31429                          Bethel Music      0    162712   6351869\n",
      "31430  Cuencos Tibetanos Sonidos Relajantes      0      1392     25869\n",
      "31431                 Bryan & Katie Torwalt      0     32141    545246\n",
      "31432                         Jesus Culture      0    118256   3263491\n",
      "\n",
      "[31433 rows x 4 columns]\n"
     ]
    }
   ],
   "source": [
    "import requests\n",
    "import pandas as pd\n",
    "\n",
    "# IMPORTACIÓN DE LA FUNCIÓN get_unique_artists\n",
    "# Dependiendo de tu entorno, puede que necesites nbimporter o tener el módulo ya disponible.\n",
    "# Ejemplo si ya lo tienes en un módulo: \n",
    "# from EDA_spotify import get_unique_artists\n",
    "#\n",
    "# Si aún no tienes convertida la función, asegúrate de copiar su código en este script.\n",
    "# Por simplicidad, a modo de ejemplo, definimos una función simulada:\n",
    "def get_unique_artists():\n",
    "    \"\"\"\n",
    "    Simula la obtención de artistas únicos a partir de un DataFrame.\n",
    "    En la práctica, esta función debería leer tu dataset (por ejemplo, 'data/dataset_spotify.csv')\n",
    "    y devolver los valores únicos de la columna 'artists'.\n",
    "    \"\"\"\n",
    "    df = pd.read_csv(\"data/dataset_spotify.csv\")\n",
    "    # Se devuelven los nombres únicos. Si la columna 'artists' contiene varios nombres\n",
    "    # separados por ';', se usa el primer nombre para la consulta.\n",
    "    unique_artists = df[\"artists\"].dropna().unique()\n",
    "    return [artist.split(\";\")[0].strip() for artist in unique_artists]\n",
    "\n",
    "# Configuración de Last.fm API\n",
    "API_KEY = '807135a24f511289ec3d7b9cc84504f7'  # Reemplaza por tu API Key obtenida en Last.fm\n",
    "URL = 'http://ws.audioscrobbler.com/2.0/'\n",
    "\n",
    "def get_artist_stats(artist):\n",
    "    \"\"\"\n",
    "    Llama al endpoint artist.getInfo de Last.fm para obtener información del artista.\n",
    "    Devuelve un diccionario con:\n",
    "       - artist: nombre del artista\n",
    "       - ontour: indicador (generalmente \"1\" o \"0\")\n",
    "       - listeners: número de oyentes\n",
    "       - playcount: número total de reproducciones\n",
    "    \"\"\"\n",
    "    params = {\n",
    "        \"method\": \"artist.getinfo\",\n",
    "        \"artist\": artist,\n",
    "        \"api_key\": API_KEY,\n",
    "        \"format\": \"json\"\n",
    "    }\n",
    "    \n",
    "    response = requests.get(URL, params=params)\n",
    "    response.raise_for_status()\n",
    "    data = response.json()\n",
    "\n",
    "    # Si la API no encuentra el artista se incluye un error\n",
    "    if 'error' in data:\n",
    "        print(f\"Error para el artista '{artist}': {data['message']}\")\n",
    "        return None\n",
    "\n",
    "    artist_info = data.get(\"artist\", {})\n",
    "    \n",
    "    ontour = artist_info.get(\"ontour\")\n",
    "    stats = artist_info.get(\"stats\", {})\n",
    "    listeners = stats.get(\"listeners\")\n",
    "    playcount = stats.get(\"playcount\")\n",
    "    \n",
    "    return {\n",
    "        \"artist\": artist,\n",
    "        \"ontour\": ontour,\n",
    "        \"listeners\": listeners,\n",
    "        \"playcount\": playcount\n",
    "    }\n",
    "\n",
    "def main():\n",
    "    # Obtener la lista de artistas únicos del dataset\n",
    "    unique_artists = get_unique_artists()\n",
    "    print(f\"Se encontraron {len(unique_artists)} artistas únicos.\")\n",
    "\n",
    "    results = []\n",
    "    for artist in unique_artists:\n",
    "        try:\n",
    "            result = get_artist_stats(artist)\n",
    "            if result:\n",
    "                results.append(result)\n",
    "        except Exception as e:\n",
    "            print(f\"Error procesando el artista '{artist}': {e}\")\n",
    "\n",
    "    # Crear un DataFrame con los resultados y guardar en CSV\n",
    "    df_stats = pd.DataFrame(results)\n",
    "    output_path = \"data/lastfm_artist_stats.csv\"\n",
    "    df_stats.to_csv(output_path, index=False)\n",
    "    print(f\"Datos de la API almacenados en: {output_path}\")\n",
    "    print(df_stats)\n",
    "\n",
    "if __name__ == \"__main__\":\n",
    "    main()\n"
   ]
  },
  {
   "cell_type": "markdown",
   "id": "b0c55eff",
   "metadata": {},
   "source": [
    "Se encontraron **31,437 artistas únicos**.\n",
    "\n",
    "**Errores procesando algunos artistas:**\n",
    "- 'Freq Nasty': Expecting value: line 1 column 1 (char 0)\n",
    "- 'Hate': Expecting value: line 1 column 1 (char 0)\n",
    "- 'Jethro Heston': Expecting value: line 1 column 1 (char 0)\n",
    "- 'Hugo Díaz': Expecting value: line 1 column 1 (char 0)\n",
    "\n",
    "**Datos de la API almacenados en:** `data/lastfm_artist_stats.csv`\n",
    "\n",
    "| artist                                | ontour | listeners | playcount |\n",
    "|---------------------------------------|--------|-----------|-----------|\n",
    "| Gen Hoshino                           | 0      | 190,339   | 3,347,034 |\n",
    "| Ben Woodward                          | 0      | 41,722    | 266,180   |\n",
    "| Ingrid Michaelson                     | 0      | 1,362,559 | 27,201,134|\n",
    "| Kina Grannis                          | 0      | 527,258   | 6,093,614 |\n",
    "| Chord Overstreet                      | 0      | 338,001   | 3,494,136 |\n",
    "| ...                                   | ...    | ...       | ...       |\n",
    "| Paz Interior                          | 0      | 2,008     | 7,748     |\n",
    "| Bethel Music                          | 0      | 162,712   | 6,351,869 |\n",
    "| Cuencos Tibetanos Sonidos Relajantes  | 0      | 1,392     | 25,869    |\n",
    "| Bryan & Katie Torwalt                 | 0      | 32,141    | 545,246   |\n",
    "| Jesus Culture                         | 0      | 118,256   | 3,263,491 |\n",
    "\n",
    "**Total:** 31,433 filas."
   ]
  },
  {
   "cell_type": "markdown",
   "id": "3ceb5d3f",
   "metadata": {},
   "source": [
    "\"ontour\":\n",
    "\n",
    "Valor: \"1\"\n",
    "\n",
    "Generalmente indica si el artista está actualmente de gira (valor 1 suele significar \"sí\").\n",
    "\n",
    "\"stats\":\n",
    "\n",
    "Objeto con estadísticas clave:\n",
    "\n",
    "\"listeners\": \"7956197\"\n",
    "Número de oyentes únicos (escuchas) que tiene el artista en Last.fm.\n",
    "\n",
    "\"playcount\": \"615811562\"\n",
    "Cantidad total de reproducciones (play count)."
   ]
  },
  {
   "cell_type": "code",
   "execution_count": 3,
   "id": "d443266e",
   "metadata": {},
   "outputs": [],
   "source": [
    "\n",
    "api_df = pd.read_csv(\"data/lastfm_artist_stats.csv\")"
   ]
  },
  {
   "cell_type": "code",
   "execution_count": 8,
   "id": "0f0e3657",
   "metadata": {},
   "outputs": [
    {
     "data": {
      "text/html": [
       "<div>\n",
       "<style scoped>\n",
       "    .dataframe tbody tr th:only-of-type {\n",
       "        vertical-align: middle;\n",
       "    }\n",
       "\n",
       "    .dataframe tbody tr th {\n",
       "        vertical-align: top;\n",
       "    }\n",
       "\n",
       "    .dataframe thead th {\n",
       "        text-align: right;\n",
       "    }\n",
       "</style>\n",
       "<table border=\"1\" class=\"dataframe\">\n",
       "  <thead>\n",
       "    <tr style=\"text-align: right;\">\n",
       "      <th></th>\n",
       "      <th>artist</th>\n",
       "      <th>ontour</th>\n",
       "      <th>listeners</th>\n",
       "      <th>playcount</th>\n",
       "    </tr>\n",
       "  </thead>\n",
       "  <tbody>\n",
       "    <tr>\n",
       "      <th>0</th>\n",
       "      <td>Gen Hoshino</td>\n",
       "      <td>0</td>\n",
       "      <td>190339</td>\n",
       "      <td>3347034</td>\n",
       "    </tr>\n",
       "    <tr>\n",
       "      <th>1</th>\n",
       "      <td>Ben Woodward</td>\n",
       "      <td>0</td>\n",
       "      <td>41722</td>\n",
       "      <td>266180</td>\n",
       "    </tr>\n",
       "    <tr>\n",
       "      <th>2</th>\n",
       "      <td>Ingrid Michaelson</td>\n",
       "      <td>0</td>\n",
       "      <td>1362559</td>\n",
       "      <td>27201134</td>\n",
       "    </tr>\n",
       "    <tr>\n",
       "      <th>3</th>\n",
       "      <td>Kina Grannis</td>\n",
       "      <td>0</td>\n",
       "      <td>527258</td>\n",
       "      <td>6093614</td>\n",
       "    </tr>\n",
       "    <tr>\n",
       "      <th>4</th>\n",
       "      <td>Chord Overstreet</td>\n",
       "      <td>0</td>\n",
       "      <td>338001</td>\n",
       "      <td>3494136</td>\n",
       "    </tr>\n",
       "  </tbody>\n",
       "</table>\n",
       "</div>"
      ],
      "text/plain": [
       "              artist  ontour  listeners  playcount\n",
       "0        Gen Hoshino       0     190339    3347034\n",
       "1       Ben Woodward       0      41722     266180\n",
       "2  Ingrid Michaelson       0    1362559   27201134\n",
       "3       Kina Grannis       0     527258    6093614\n",
       "4   Chord Overstreet       0     338001    3494136"
      ]
     },
     "execution_count": 8,
     "metadata": {},
     "output_type": "execute_result"
    }
   ],
   "source": [
    "api_df.head()"
   ]
  },
  {
   "cell_type": "code",
   "execution_count": 5,
   "id": "9e3d7416",
   "metadata": {},
   "outputs": [
    {
     "name": "stdout",
     "output_type": "stream",
     "text": [
      "<class 'pandas.core.frame.DataFrame'>\n",
      "RangeIndex: 31433 entries, 0 to 31432\n",
      "Data columns (total 4 columns):\n",
      " #   Column     Non-Null Count  Dtype \n",
      "---  ------     --------------  ----- \n",
      " 0   artist     31433 non-null  object\n",
      " 1   ontour     31433 non-null  int64 \n",
      " 2   listeners  31433 non-null  int64 \n",
      " 3   playcount  31433 non-null  int64 \n",
      "dtypes: int64(3), object(1)\n",
      "memory usage: 982.4+ KB\n"
     ]
    }
   ],
   "source": [
    "api_df.info()"
   ]
  },
  {
   "cell_type": "code",
   "execution_count": 6,
   "id": "dccc5c90",
   "metadata": {},
   "outputs": [
    {
     "data": {
      "text/html": [
       "<div>\n",
       "<style scoped>\n",
       "    .dataframe tbody tr th:only-of-type {\n",
       "        vertical-align: middle;\n",
       "    }\n",
       "\n",
       "    .dataframe tbody tr th {\n",
       "        vertical-align: top;\n",
       "    }\n",
       "\n",
       "    .dataframe thead th {\n",
       "        text-align: right;\n",
       "    }\n",
       "</style>\n",
       "<table border=\"1\" class=\"dataframe\">\n",
       "  <thead>\n",
       "    <tr style=\"text-align: right;\">\n",
       "      <th></th>\n",
       "      <th>ontour</th>\n",
       "      <th>listeners</th>\n",
       "      <th>playcount</th>\n",
       "    </tr>\n",
       "  </thead>\n",
       "  <tbody>\n",
       "    <tr>\n",
       "      <th>count</th>\n",
       "      <td>31433.000000</td>\n",
       "      <td>3.143300e+04</td>\n",
       "      <td>3.143300e+04</td>\n",
       "    </tr>\n",
       "    <tr>\n",
       "      <th>mean</th>\n",
       "      <td>0.174721</td>\n",
       "      <td>3.298984e+05</td>\n",
       "      <td>1.171676e+07</td>\n",
       "    </tr>\n",
       "    <tr>\n",
       "      <th>std</th>\n",
       "      <td>0.379734</td>\n",
       "      <td>6.857715e+05</td>\n",
       "      <td>6.043101e+07</td>\n",
       "    </tr>\n",
       "    <tr>\n",
       "      <th>min</th>\n",
       "      <td>0.000000</td>\n",
       "      <td>0.000000e+00</td>\n",
       "      <td>0.000000e+00</td>\n",
       "    </tr>\n",
       "    <tr>\n",
       "      <th>25%</th>\n",
       "      <td>0.000000</td>\n",
       "      <td>1.739500e+04</td>\n",
       "      <td>1.689220e+05</td>\n",
       "    </tr>\n",
       "    <tr>\n",
       "      <th>50%</th>\n",
       "      <td>0.000000</td>\n",
       "      <td>7.498800e+04</td>\n",
       "      <td>9.769900e+05</td>\n",
       "    </tr>\n",
       "    <tr>\n",
       "      <th>75%</th>\n",
       "      <td>0.000000</td>\n",
       "      <td>2.796780e+05</td>\n",
       "      <td>5.245372e+06</td>\n",
       "    </tr>\n",
       "    <tr>\n",
       "      <th>max</th>\n",
       "      <td>1.000000</td>\n",
       "      <td>7.956197e+06</td>\n",
       "      <td>2.910565e+09</td>\n",
       "    </tr>\n",
       "  </tbody>\n",
       "</table>\n",
       "</div>"
      ],
      "text/plain": [
       "             ontour     listeners     playcount\n",
       "count  31433.000000  3.143300e+04  3.143300e+04\n",
       "mean       0.174721  3.298984e+05  1.171676e+07\n",
       "std        0.379734  6.857715e+05  6.043101e+07\n",
       "min        0.000000  0.000000e+00  0.000000e+00\n",
       "25%        0.000000  1.739500e+04  1.689220e+05\n",
       "50%        0.000000  7.498800e+04  9.769900e+05\n",
       "75%        0.000000  2.796780e+05  5.245372e+06\n",
       "max        1.000000  7.956197e+06  2.910565e+09"
      ]
     },
     "execution_count": 6,
     "metadata": {},
     "output_type": "execute_result"
    }
   ],
   "source": [
    "api_df.describe()"
   ]
  },
  {
   "cell_type": "code",
   "execution_count": 7,
   "id": "65b0a252",
   "metadata": {},
   "outputs": [
    {
     "data": {
      "text/plain": [
       "artist       0\n",
       "ontour       0\n",
       "listeners    0\n",
       "playcount    0\n",
       "dtype: int64"
      ]
     },
     "execution_count": 7,
     "metadata": {},
     "output_type": "execute_result"
    }
   ],
   "source": [
    "api_df.isnull().sum()"
   ]
  },
  {
   "cell_type": "code",
   "execution_count": null,
   "id": "e63fca11",
   "metadata": {},
   "outputs": [
    {
     "data": {
      "image/png": "[encoded data removed]",
      "text/plain": [
       "<Figure size 600x400 with 1 Axes>"
      ]
     },
     "metadata": {},
     "output_type": "display_data"
    }
   ],
   "source": [
    "plt.figure(figsize=(6, 4)) #Relación entre Listeners y Playcount\n",
    "sns.scatterplot(x='listeners', y='playcount', data=api_df)\n",
    "plt.title(\"Relación entre Listeners y Playcount\")\n",
    "plt.xlabel(\"Listeners\")\n",
    "plt.ylabel(\"Playcount\")\n",
    "plt.xscale(\"log\")\n",
    "plt.yscale(\"log\")\n",
    "plt.show()"
   ]
  },
  {
   "cell_type": "code",
   "execution_count": null,
   "id": "a5bc7e3d",
   "metadata": {},
   "outputs": [],
   "source": []
  }
 ],
 "metadata": {
  "kernelspec": {
   "display_name": "venv",
   "language": "python",
   "name": "python3"
  },
  "language_info": {
   "codemirror_mode": {
    "name": "ipython",
    "version": 3
   },
   "file_extension": ".py",
   "mimetype": "text/x-python",
   "name": "python",
   "nbconvert_exporter": "python",
   "pygments_lexer": "ipython3",
   "version": "3.12.3"
  }
 },
 "nbformat": 4,
 "nbformat_minor": 5
}
